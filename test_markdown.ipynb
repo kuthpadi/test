{
 "cells": [
  {
   "cell_type": "markdown",
   "id": "88124433",
   "metadata": {},
   "source": [
    "# Train-Test Data Split\n",
    "\n",
    "## Why is it Important?\n",
    "\n",
    "When building a machine learning model, it is crucial to evaluate the trained model on data that was not used to fit it, as generalization is more important than memorization. We want a model that generalizes to new data, rather than simply memorizing the training data.\n",
    "\n",
    "### How to Implement\n",
    "\n",
    "Correct evaluation is easily done by:\n",
    "\n",
    "1. Leaving out a subset of the data when training the model\n",
    "2. Using the remaining data afterwards for model evaluation\n",
    "\n",
    "The data used to fit a model is called *training data*, while the data used to assess a model is called *testing data*.\n",
    "\n",
    "Additionally, we can load more data that was left out from the original dataset to further evaluate our model's performance.\n",
    "\n",
    "This process is known as the *train-test data split*, and it's an essential step in building reliable machine learning models."
   ]
  },
  {
   "cell_type": "code",
   "execution_count": 2,
   "id": "4c940f95",
   "metadata": {},
   "outputs": [],
   "source": [
    "import numpy as np "
   ]
  },
  {
   "cell_type": "code",
   "execution_count": 5,
   "id": "0439eea8",
   "metadata": {},
   "outputs": [
    {
     "data": {
      "text/plain": [
       "2"
      ]
     },
     "execution_count": 5,
     "metadata": {},
     "output_type": "execute_result"
    }
   ],
   "source": [
    "np.add(1,1)"
   ]
  },
  {
   "cell_type": "code",
   "execution_count": null,
   "id": "13129070",
   "metadata": {},
   "outputs": [],
   "source": []
  }
 ],
 "metadata": {
  "kernelspec": {
   "display_name": "Python 3",
   "language": "python",
   "name": "python3"
  },
  "language_info": {
   "codemirror_mode": {
    "name": "ipython",
    "version": 3
   },
   "file_extension": ".py",
   "mimetype": "text/x-python",
   "name": "python",
   "nbconvert_exporter": "python",
   "pygments_lexer": "ipython3",
   "version": "3.8.8"
  }
 },
 "nbformat": 4,
 "nbformat_minor": 5
}
